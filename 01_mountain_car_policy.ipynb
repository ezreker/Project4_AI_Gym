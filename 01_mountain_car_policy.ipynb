{
 "cells": [
  {
   "cell_type": "markdown",
   "metadata": {},
   "source": [
    "# Random search for successful linear model agent for mountain car #"
   ]
  },
  {
   "cell_type": "code",
   "execution_count": 2,
   "metadata": {},
   "outputs": [
    {
     "name": "stdout",
     "output_type": "stream",
     "text": [
      "Requirement already satisfied: matplotlib in /Users/brandirosenbluth/miniconda3/envs/gymai/lib/python3.6/site-packages (3.0.2)\r\n",
      "Requirement already satisfied: cycler>=0.10 in /Users/brandirosenbluth/miniconda3/envs/gymai/lib/python3.6/site-packages (from matplotlib) (0.10.0)\r\n",
      "Requirement already satisfied: python-dateutil>=2.1 in /Users/brandirosenbluth/miniconda3/envs/gymai/lib/python3.6/site-packages (from matplotlib) (2.7.5)\r\n",
      "Requirement already satisfied: kiwisolver>=1.0.1 in /Users/brandirosenbluth/miniconda3/envs/gymai/lib/python3.6/site-packages (from matplotlib) (1.0.1)\r\n",
      "Requirement already satisfied: pyparsing!=2.0.4,!=2.1.2,!=2.1.6,>=2.0.1 in /Users/brandirosenbluth/miniconda3/envs/gymai/lib/python3.6/site-packages (from matplotlib) (2.3.0)\r\n",
      "Requirement already satisfied: numpy>=1.10.0 in /Users/brandirosenbluth/miniconda3/envs/gymai/lib/python3.6/site-packages (from matplotlib) (1.15.4)\r\n",
      "Requirement already satisfied: six in /Users/brandirosenbluth/miniconda3/envs/gymai/lib/python3.6/site-packages (from cycler>=0.10->matplotlib) (1.11.0)\r\n",
      "Requirement already satisfied: setuptools in /Users/brandirosenbluth/miniconda3/envs/gymai/lib/python3.6/site-packages (from kiwisolver>=1.0.1->matplotlib) (40.6.2)\r\n"
     ]
    }
   ],
   "source": [
    "!pip install matplotlib\n",
    "\n",
    "import gym\n",
    "import numpy as np\n",
    "\n",
    "%matplotlib inline\n",
    "import matplotlib.pyplot as plt\n",
    "\n",
    "import time"
   ]
  },
  {
   "cell_type": "code",
   "execution_count": 3,
   "metadata": {},
   "outputs": [
    {
     "name": "stdout",
     "output_type": "stream",
     "text": [
      "\u001b[33mWARN: gym.spaces.Box autodetected dtype as <class 'numpy.float32'>. Please provide explicit dtype.\u001b[0m\n"
     ]
    },
    {
     "name": "stderr",
     "output_type": "stream",
     "text": [
      "/Users/brandirosenbluth/miniconda3/envs/gymai/lib/python3.6/site-packages/gym/envs/registration.py:14: PkgResourcesDeprecationWarning: Parameters to load are deprecated.  Call .resolve and .require separately.\n",
      "  result = entry_point.load(False)\n"
     ]
    }
   ],
   "source": [
    "env = gym.make(\"MountainCar-v0\")"
   ]
  },
  {
   "cell_type": "markdown",
   "metadata": {},
   "source": [
    "## Evaluate linear model agent for one episode ##"
   ]
  },
  {
   "cell_type": "code",
   "execution_count": 4,
   "metadata": {},
   "outputs": [],
   "source": [
    "# run one episode \n",
    "def run_episode(weight_vector):\n",
    "    state = env.reset()\n",
    "    total_reward = 0\n",
    "    for _ in np.arange(200):\n",
    "        # state is a 2 dimensional vector\n",
    "        # weight vector is also a 2 dimensional vector\n",
    "        # the action is 0 if the inner product of weight vector and state is negative \n",
    "        #               2                                                    non-negative\n",
    "        action = 0 if np.matmul(weight_vector, state) < 0 else 2\n",
    "        state, reward, done, _ = env.step(action)\n",
    "        total_reward += reward\n",
    "        if done:\n",
    "            break\n",
    "    return total_reward"
   ]
  },
  {
   "cell_type": "markdown",
   "metadata": {},
   "source": [
    "## Keep guessing linear model agents till success (irrelevant code)##"
   ]
  },
  {
   "cell_type": "code",
   "execution_count": 5,
   "metadata": {},
   "outputs": [],
   "source": [
    "# returns the number of guesses performed till success and the successful weight vector\n",
    "def guess_till_success():\n",
    "    counter = 0\n",
    "    weight_vector = None\n",
    "    total_reward = -200\n",
    "    while total_reward == -200:\n",
    "        counter += 1\n",
    "        weight_vector = np.random.rand(2) * 2.0 - 1.0\n",
    "        total_reward = run_episode(weight_vector)\n",
    "    return counter, weight_vector"
   ]
  },
  {
   "cell_type": "markdown",
   "metadata": {},
   "source": [
    "## Define and run Policy ##"
   ]
  },
  {
   "cell_type": "code",
   "execution_count": 9,
   "metadata": {},
   "outputs": [],
   "source": [
    "def policy(state):\n",
    "    if state[0] <= 0:\n",
    "        if  state[1] > 0:\n",
    "            return 2\n",
    "        return 0\n",
    "    if state[0] >= 0:\n",
    "        if state[1] > 0:\n",
    "            return 2\n",
    "        return 0"
   ]
  },
  {
   "cell_type": "code",
   "execution_count": null,
   "metadata": {},
   "outputs": [],
   "source": []
  },
  {
   "cell_type": "code",
   "execution_count": 10,
   "metadata": {},
   "outputs": [
    {
     "name": "stdout",
     "output_type": "stream",
     "text": [
      "Total reward: -155.0\n"
     ]
    }
   ],
   "source": [
    "\n",
    "\n",
    "total_reward = 0\n",
    "done = False\n",
    "state = env.reset()\n",
    "env.render()\n",
    "time.sleep(0.1)\n",
    "\n",
    "for _ in np.arange(200):\n",
    "    action = policy(state)\n",
    "    state, reward, done, _ = env.step(action)\n",
    "    total_reward += reward\n",
    "    env.render()\n",
    "    time.sleep(0.1)\n",
    "    if done: break\n",
    "    \n",
    "env.close()\n",
    "print(\"Total reward:\", total_reward)"
   ]
  },
  {
   "cell_type": "code",
   "execution_count": null,
   "metadata": {},
   "outputs": [],
   "source": []
  }
 ],
 "metadata": {
  "kernelspec": {
   "display_name": "Python 3",
   "language": "python",
   "name": "python3"
  },
  "language_info": {
   "codemirror_mode": {
    "name": "ipython",
    "version": 3
   },
   "file_extension": ".py",
   "mimetype": "text/x-python",
   "name": "python",
   "nbconvert_exporter": "python",
   "pygments_lexer": "ipython3",
   "version": "3.6.7"
  }
 },
 "nbformat": 4,
 "nbformat_minor": 2
}
